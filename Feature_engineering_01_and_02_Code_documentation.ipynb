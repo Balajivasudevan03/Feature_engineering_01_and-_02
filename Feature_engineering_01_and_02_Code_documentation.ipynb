{
  "nbformat": 4,
  "nbformat_minor": 0,
  "metadata": {
    "colab": {
      "provenance": [],
      "authorship_tag": "ABX9TyNw7OmKUP8gBuyixiWrG4TD",
      "include_colab_link": true
    },
    "kernelspec": {
      "name": "python3",
      "display_name": "Python 3"
    },
    "language_info": {
      "name": "python"
    }
  },
  "cells": [
    {
      "cell_type": "markdown",
      "metadata": {
        "id": "view-in-github",
        "colab_type": "text"
      },
      "source": [
        "<a href=\"https://colab.research.google.com/github/Balajivasudevan03/Feature_engineering_01_and-_02/blob/main/Feature_engineering_01_and_02_Code_documentation.ipynb\" target=\"_parent\"><img src=\"https://colab.research.google.com/assets/colab-badge.svg\" alt=\"Open In Colab\"/></a>"
      ]
    },
    {
      "cell_type": "code",
      "execution_count": null,
      "metadata": {
        "id": "lz5qNWSZpYag"
      },
      "outputs": [],
      "source": [
        "# why is this code nescessary!!!\n",
        "\n",
        "import warnings\n",
        "warnings.filterwarnings('ignore')"
      ]
    },
    {
      "cell_type": "code",
      "source": [
        "data.describe()    # to only the numerical columns!!!"
      ],
      "metadata": {
        "id": "655J5CEQrZb1"
      },
      "execution_count": null,
      "outputs": []
    },
    {
      "cell_type": "code",
      "source": [
        "data.describe(include = ['object'])   ## only the categorical columns only"
      ],
      "metadata": {
        "id": "4KNo51s1rtGT"
      },
      "execution_count": null,
      "outputs": []
    },
    {
      "cell_type": "code",
      "source": [
        "cat_cols = data.dtypes =='object'\n",
        "cat_cols = list(cat_cols[cat_cols].index)   #### give you only the catgorical column names\n",
        "cat_cols"
      ],
      "metadata": {
        "id": "5BN84iBSsOrm"
      },
      "execution_count": null,
      "outputs": []
    },
    {
      "cell_type": "code",
      "source": [
        "num_cols = data.dtypes !='object'\n",
        "num_cols = list(num_cols[num_cols].index)  ### gives you only the numerical column names\n",
        "num_cols"
      ],
      "metadata": {
        "id": "sNmI2lpGsPrc"
      },
      "execution_count": null,
      "outputs": []
    },
    {
      "cell_type": "code",
      "source": [
        "import matplotlib.pyplot as plt\n",
        "plt.rcParams[\"figure.figsize\"] = [15,10]   ### kde-subplots for continous variables\n",
        "data.plot(kind = 'density', subplots = True, layout = (3,3), sharex = False)\n",
        "plt.show()"
      ],
      "metadata": {
        "id": "fANbUxQ2tOmq"
      },
      "execution_count": null,
      "outputs": []
    },
    {
      "cell_type": "code",
      "source": [
        "print(data.skew())    ## prints the skewness of the data"
      ],
      "metadata": {
        "id": "nct4ZnYhtOsB"
      },
      "execution_count": null,
      "outputs": []
    },
    {
      "cell_type": "code",
      "source": [
        "data.kurt()  ## prints the kurtosis of the data"
      ],
      "metadata": {
        "id": "UA_Y95LgtOwm"
      },
      "execution_count": null,
      "outputs": []
    },
    {
      "cell_type": "code",
      "source": [
        "data['Loan_Status'].value_counts()\n",
        "target = 'Loan_Status'\n",
        "\n",
        "\n",
        "plt.rcParams[\"figure.figsize\"] = [6,4]\n",
        "sns.countplot(data=data, x='Loan_Status')   ### count plot for loan_status\n",
        "plt.show()"
      ],
      "metadata": {
        "id": "vRSbjGbbsP91"
      },
      "execution_count": null,
      "outputs": []
    },
    {
      "cell_type": "code",
      "source": [
        "plt.subplot(121)\n",
        "sns.histplot(data[\"ApplicantIncome\"], kde=True)\n",
        "\n",
        "plt.subplot(122)\n",
        "data[\"ApplicantIncome\"].plot.box(figsize=(16,5))   ### sub-plot for both hist and box plots\n",
        "plt.show()"
      ],
      "metadata": {
        "id": "rsGwKubZwJ5e"
      },
      "execution_count": null,
      "outputs": []
    },
    {
      "cell_type": "code",
      "source": [
        "Income_bin = pd.crosstab(data[\"Income_bin\"],data[\"Loan_Status\"], normalize=\"index\")\n",
        "Income_bin.plot(kind=\"bar\",figsize=(4,4))\n",
        "plt.xlabel(\"ApplicantIncome\")\n",
        "plt.ylabel(\"Percentage\")\n",
        "plt.show()              ### this is another way to plot the bar/dodged plot"
      ],
      "metadata": {
        "id": "J9vqgQPCwKDJ"
      },
      "execution_count": null,
      "outputs": []
    },
    {
      "cell_type": "code",
      "source": [
        "vals_n = pd.crosstab(data[\"TotalIncome_bin\"], data[\"Loan_Status\"], normalize=\"index\")\n",
        "vals_n.plot(kind=\"bar\",figsize=(4,4)) ## one more way!!"
      ],
      "metadata": {
        "id": "944MYghDwKJe"
      },
      "execution_count": null,
      "outputs": []
    },
    {
      "cell_type": "code",
      "source": [
        "# saving the dataframe to CSV file\n",
        "data.to_csv('updated_loan.csv',index=False) ### updating the old ones to the new ones"
      ],
      "metadata": {
        "id": "pMrrhYFjwKQ4"
      },
      "execution_count": null,
      "outputs": []
    },
    {
      "cell_type": "markdown",
      "source": [
        "## Feature---engineering---02"
      ],
      "metadata": {
        "id": "ZYGedrnf0geT"
      }
    },
    {
      "cell_type": "code",
      "source": [
        "# how many percentage of data is missing in each column\n",
        "\n",
        "missing_value = pd.DataFrame({\n",
        "    'Missing Value': data.isnull().sum(),\n",
        "    'Percentage': (data.isnull().sum() / len(data))*100\n",
        "})\n",
        "missing_value.sort_values(by='Percentage', ascending=False)"
      ],
      "metadata": {
        "id": "ybAJsIFMwKW-"
      },
      "execution_count": null,
      "outputs": []
    },
    {
      "cell_type": "code",
      "source": [
        "from sklearn.impute import SimpleImputer\n",
        "\n",
        "SimpleImputer(strategy=\"mean\").fit_transform(a)\n",
        "\n",
        "SimpleImputer(strategy=\"most_frequent\").fit_transform(a)\n",
        "\n",
        "SimpleImputer(strategy=\"constant\",fill_value=1000).fit_transform(a)"
      ],
      "metadata": {
        "id": "qVMGy-Mx8aQC"
      },
      "execution_count": null,
      "outputs": []
    },
    {
      "cell_type": "code",
      "source": [
        "# Missing numeric columns\n",
        "\n",
        "# set of columns\n",
        "num_missing = ['EMI', 'Loan_Amount_per_year',  'LoanAmount',  'Loan_Amount_Term']\n",
        "\n",
        "# instance of simple imputer class with a median strategy\n",
        "median_imputer = SimpleImputer(strategy = 'median')\n",
        "\n",
        "for col in num_missing:\n",
        "    data[col] = pd.DataFrame(median_imputer.fit_transform(pd.DataFrame(data[col])))"
      ],
      "metadata": {
        "id": "xH_Ys6VCAQ26"
      },
      "execution_count": null,
      "outputs": []
    },
    {
      "cell_type": "code",
      "source": [
        "cat_missing = ['Gender', 'Married','Dependents']\n",
        "\n",
        "freq_imputer = SimpleImputer(strategy = 'most_frequent') # mode\n",
        "for col in cat_missing:\n",
        "    data[col] = pd.DataFrame(freq_imputer.fit_transform(pd.DataFrame(data[col])))"
      ],
      "metadata": {
        "id": "Xu-0ko95AQnR"
      },
      "execution_count": null,
      "outputs": []
    },
    {
      "cell_type": "code",
      "source": [
        "data['Income_bin'] = data['Income_bin'].astype('object')\n",
        "data['TotalIncome_bin'] = data['TotalIncome_bin'].astype('object')"
      ],
      "metadata": {
        "id": "9C_8M5nWAQK3"
      },
      "execution_count": null,
      "outputs": []
    },
    {
      "cell_type": "code",
      "source": [
        "df_num = data.select_dtypes(include = np.number)"
      ],
      "metadata": {
        "id": "7BllfFMSErzo"
      },
      "execution_count": null,
      "outputs": []
    },
    {
      "cell_type": "code",
      "source": [
        "df_num.drop(['Credit_History','Able_to_pay_EMI'],axis=1,inplace=True)\n",
        "df_num.head()"
      ],
      "metadata": {
        "id": "Rljkq-hJErrP"
      },
      "execution_count": null,
      "outputs": []
    },
    {
      "cell_type": "code",
      "source": [
        "for col in enumerate(df_num):\n",
        "    sns.boxplot(x=col[1],data=df_num)\n",
        "    plt.show()"
      ],
      "metadata": {
        "id": "UrQLZwr0Eric"
      },
      "execution_count": null,
      "outputs": []
    },
    {
      "cell_type": "code",
      "source": [
        "# obtain the first quartile\n",
        "Q1 = df_num.quantile(0.25)\n",
        "\n",
        "# obtain the third quartile\n",
        "Q3 = df_num.quantile(0.75)\n",
        "\n",
        "# obtain the IQR\n",
        "IQR = Q3 - Q1\n",
        "\n",
        "# print the IQR\n",
        "print(IQR)"
      ],
      "metadata": {
        "id": "uFzNXBs1ErXy"
      },
      "execution_count": null,
      "outputs": []
    },
    {
      "cell_type": "code",
      "source": [
        "df_iqr=data[~((df_num < (Q1-1.5*IQR))|(df_num > (Q3 + 1.5*IQR))).any(axis=1)]  ### removing the outliers"
      ],
      "metadata": {
        "id": "iMramGuLEqq4"
      },
      "execution_count": null,
      "outputs": []
    },
    {
      "cell_type": "code",
      "source": [
        "import scipy\n",
        "from scipy import stats\n",
        "\n",
        "# z-scores are defined for each observation in a variable\n",
        "# compute the z-scores using the method zscore from the scipy library\n",
        "z_scores_LoanAmount = scipy.stats.zscore(df_num[\"LoanAmount\"])\n",
        "\n",
        "# display the z-scores\n",
        "z_scores_LoanAmount"
      ],
      "metadata": {
        "id": "PHAPXdLAFaHN"
      },
      "execution_count": null,
      "outputs": []
    },
    {
      "cell_type": "code",
      "execution_count": null,
      "metadata": {
        "colab": {
          "base_uri": "https://localhost:8080/"
        },
        "id": "zj3P7hhQhIH4",
        "outputId": "d9ed272b-39d5-4b8b-d30a-d563ffe722e9"
      },
      "outputs": [
        {
          "output_type": "stream",
          "name": "stdout",
          "text": [
            "(array([], dtype=int64),)\n"
          ]
        }
      ],
      "source": [
        "# print the rows where the z-score is less than -3\n",
        "row_index_less = np.where(z_scores_LoanAmount < -3)\n",
        "\n",
        "# print the values\n",
        "print(row_index_less)"
      ]
    },
    {
      "cell_type": "code",
      "execution_count": null,
      "metadata": {
        "colab": {
          "base_uri": "https://localhost:8080/"
        },
        "id": "CrsWEjsXhQGk",
        "outputId": "3b64b82f-2d84-40fc-a8f2-ff5a048fbffb"
      },
      "outputs": [
        {
          "output_type": "stream",
          "name": "stdout",
          "text": [
            "(array([130, 155, 171, 177, 278, 308, 333, 369, 432, 487, 506, 523, 525,\n",
            "       561, 604]),)\n"
          ]
        }
      ],
      "source": [
        "# print the rows where the z-score is more than 3\n",
        "row_index_more = np.where(z_scores_LoanAmount > 3)\n",
        "\n",
        "# print the values more than the\n",
        "print(row_index_more)"
      ]
    },
    {
      "cell_type": "code",
      "execution_count": null,
      "metadata": {
        "colab": {
          "base_uri": "https://localhost:8080/"
        },
        "id": "uFHoSkmChZE5",
        "outputId": "642f453d-c1ac-48a2-d621-9f4fa6f9f01f"
      },
      "outputs": [
        {
          "output_type": "execute_result",
          "data": {
            "text/plain": [
              "15"
            ]
          },
          "metadata": {},
          "execution_count": 145
        }
      ],
      "source": [
        "# count of outliers in the variable representing LoanAmount\n",
        "len(row_index_less[0]) + len(row_index_more[0])"
      ]
    },
    {
      "cell_type": "code",
      "execution_count": null,
      "metadata": {
        "id": "COLzpdKihjvI"
      },
      "outputs": [],
      "source": [
        "# Filter out the outlier values\n",
        "# ~: Select all rows which do not satisfy the condition\n",
        "df_LoanAmount_zscore = data[\"LoanAmount\"][~(( z_scores_LoanAmount < -3) |(z_scores_LoanAmount > 3))]"
      ]
    },
    {
      "cell_type": "code",
      "execution_count": null,
      "metadata": {
        "id": "qCvCGf95h4HT"
      },
      "outputs": [],
      "source": [
        "z_score_threshold = 3  # You can adjust this threshold as needed\n",
        "\n",
        "# Calculate z-scores for all numerical columns\n",
        "z_scores = np.abs(stats.zscore(data.select_dtypes(include=[np.number])))\n",
        "\n",
        "# Remove rows with any z-score exceeding the threshold\n",
        "data_no_outliers = data[(z_scores < z_score_threshold).all(axis=1)]"
      ]
    },
    {
      "cell_type": "code",
      "source": [
        "from sklearn.preprocessing import LabelEncoder"
      ],
      "metadata": {
        "id": "TnB_NqK1FZo4"
      },
      "execution_count": null,
      "outputs": []
    },
    {
      "cell_type": "code",
      "source": [
        "col='Loan_Status'\n",
        "label_encoder=LabelEncoder()\n",
        "df_iqr[col]=label_encoder.fit_transform(df_iqr[col])\n",
        "df_iqr[col].value_counts()"
      ],
      "metadata": {
        "id": "3UJYTCsYogkP"
      },
      "execution_count": null,
      "outputs": []
    },
    {
      "cell_type": "code",
      "source": [
        "col=\"Gender\"\n",
        "df_iqr[col]=label_encoder.fit_transform(df_iqr[col])\n",
        "df_iqr[col].value_counts()\n",
        "\n",
        "col=\"Married\"\n",
        "df_iqr[col]=label_encoder.fit_transform(df_iqr[col])\n",
        "df_iqr[col].value_counts()\n",
        "\n",
        "col=\"Education\"\n",
        "df_iqr[col]=label_encoder.fit_transform(df_iqr[col])\n",
        "df_iqr[col].value_counts()"
      ],
      "metadata": {
        "id": "lgXXjFKPoo0p"
      },
      "execution_count": null,
      "outputs": []
    },
    {
      "cell_type": "code",
      "source": [
        "from category_encoders import TargetEncoder"
      ],
      "metadata": {
        "id": "Y95Vm9Zkoy7b"
      },
      "execution_count": null,
      "outputs": []
    },
    {
      "cell_type": "code",
      "source": [
        "pd.crosstab(df_iqr[\"Property_Area\"], df_iqr[\"Loan_Status\"])\n",
        "\n",
        "pd.crosstab(df_iqr[\"Property_Area\"], df_iqr[\"Loan_Status\"],normalize=\"index\")\n",
        "\n",
        "\n",
        "col=\"Property_Area\"\n",
        "te=TargetEncoder()\n",
        "\n",
        "# here I need to pass 2 things as parameters. 1st the column that I'm working on\n",
        "# 2nd the Target column\n",
        "\n",
        "df_iqr[col]=te.fit_transform(df_iqr[col],df_iqr[\"Loan_Status\"])\n",
        "df_iqr[col].value_counts()\n",
        "\n",
        "\n",
        "\n",
        "col=\"Self_Employed\"\n",
        "te=TargetEncoder()\n",
        "df_iqr[col]=te.fit_transform(df_iqr[col],df_iqr[\"Loan_Status\"])\n",
        "df_iqr[col].value_counts()\n",
        "\n",
        "col=\"Dependents\"\n",
        "te=TargetEncoder()\n",
        "df_iqr[col]=te.fit_transform(df_iqr[col],df_iqr[\"Loan_Status\"])\n",
        "df_iqr[col].value_counts()\n",
        "\n",
        "col=\"Income_bin\"\n",
        "te=TargetEncoder()\n",
        "df_iqr[col]=te.fit_transform(df_iqr[col],df_iqr[\"Loan_Status\"])\n",
        "df_iqr[col].value_counts()\n",
        "\n",
        "col=\"TotalIncome_bin\"\n",
        "te=TargetEncoder()\n",
        "df_iqr[col]=te.fit_transform(df_iqr[col],df_iqr[\"Loan_Status\"])\n",
        "df_iqr[col].value_counts()"
      ],
      "metadata": {
        "id": "JhjFIM-FozFI"
      },
      "execution_count": null,
      "outputs": []
    },
    {
      "cell_type": "code",
      "source": [
        "# import StandardScaler\n",
        "from sklearn.preprocessing import StandardScaler\n",
        "\n",
        "# instantiate the standardscaler\n",
        "standard_scale = StandardScaler()\n",
        "\n",
        "# fit the StandardScaler\n",
        "num['Scaled_LoanAmount'] = standard_scale.fit_transform(num[['LoanAmount']])\n",
        "\n",
        "# calculate the minimum and maximum values of the variable\n",
        "print(\" The minimum value of the sales:\",num['Scaled_LoanAmount'].min(),\"\\n\",\n",
        "      \"The maximum value of the sales:\", num['Scaled_LoanAmount'].max())"
      ],
      "metadata": {
        "id": "-U26xs-pozNt"
      },
      "execution_count": null,
      "outputs": []
    },
    {
      "cell_type": "code",
      "source": [
        "# set the figure size\n",
        "plt.rcParams[\"figure.figsize\"] = [15,8]\n",
        "\n",
        "# subplot is used to create a set of plots\n",
        "# we create a subplot of 1 row by 2 columns\n",
        "# use first column for plotting\n",
        "plt.subplot(1,2,1)\n",
        "\n",
        "# plot the distribution of the original variable\n",
        "# axlabel: label the x-axis\n",
        "sns.distplot(num['LoanAmount'])\n",
        "# set label for the y-axis\n",
        "plt.ylabel('Density', fontsize=15)\n",
        "# set label for x-axis\n",
        "plt.xlabel('LoanAmount', fontsize=15)\n",
        "\n",
        "# We create a subplot of 1 row by 2 columns\n",
        "# use the second column for plotting\n",
        "plt.subplot(1,2,2)\n",
        "\n",
        "# plot the distribution of the scaled variable\n",
        "# axlabel: label the x-axis\n",
        "sns.distplot(num['Scaled_LoanAmount'])\n",
        "# set label for the y-axis\n",
        "plt.ylabel('Density', fontsize=15)\n",
        "# set label for the x-axis\n",
        "plt.xlabel('Scaled LoanAmount', fontsize=15)\n",
        "# display the plot\n",
        "plt.show()"
      ],
      "metadata": {
        "id": "4RrKOomasmdL"
      },
      "execution_count": null,
      "outputs": []
    },
    {
      "cell_type": "code",
      "source": [
        "# import MinMaxScaler\n",
        "from sklearn.preprocessing import MinMaxScaler\n",
        "\n",
        "# instantiate the MinMaxScaler\n",
        "min_max = MinMaxScaler()\n",
        "\n",
        "# fit the MinMaxScaler\n",
        "num['minmax_LoanAmount'] = min_max.fit_transform(num[['LoanAmount']])\n",
        "\n",
        "# minimum and maximum value of the normalized variable\n",
        "num['minmax_LoanAmount'].min(), num['minmax_LoanAmount'].max()"
      ],
      "metadata": {
        "id": "oUjDB1VcozY-"
      },
      "execution_count": null,
      "outputs": []
    },
    {
      "cell_type": "code",
      "source": [
        "# set the figure size\n",
        "plt.rcParams[\"figure.figsize\"] = [15,8]\n",
        "\n",
        "# subplot is used to create a set of plots\n",
        "# We create a subplot of 1 row by 2 columns\n",
        "# use the first column for plotting\n",
        "plt.subplot(1,2,1)\n",
        "\n",
        "# plot the distribution of the original variable\n",
        "# axlabel: label the x-axis\n",
        "sns.distplot(num['LoanAmount'], axlabel='LoanAmount')\n",
        "# set label for the y-axis\n",
        "plt.ylabel('Density', fontsize=15)\n",
        "# set label for the x-axis\n",
        "plt.xlabel('LoanAmount', fontsize=15)\n",
        "\n",
        "# we create a subplot of 1 row by 2 columns\n",
        "# use the second column for plotting\n",
        "plt.subplot(1,2,2)\n",
        "\n",
        "# plot the distribution of the scaled variable\n",
        "# axlabel: label the x-axis\n",
        "sns.distplot(num['minmax_LoanAmount'], axlabel='Scaled LoanAmount')\n",
        "# set label for the y-axis\n",
        "plt.ylabel('Density', fontsize=15)\n",
        "# set label for the x-axis\n",
        "plt.xlabel('Scaled LoanAmount', fontsize=15)\n",
        "\n",
        "# display the plot\n",
        "plt.show()"
      ],
      "metadata": {
        "id": "2_iBQbwRsbRi"
      },
      "execution_count": null,
      "outputs": []
    },
    {
      "cell_type": "code",
      "source": [],
      "metadata": {
        "id": "c4iFGkvfsbbu"
      },
      "execution_count": null,
      "outputs": []
    },
    {
      "cell_type": "code",
      "source": [],
      "metadata": {
        "id": "PbINAPI2sbe3"
      },
      "execution_count": null,
      "outputs": []
    },
    {
      "cell_type": "code",
      "source": [],
      "metadata": {
        "id": "tMMQhwMlsbkD"
      },
      "execution_count": null,
      "outputs": []
    }
  ]
}